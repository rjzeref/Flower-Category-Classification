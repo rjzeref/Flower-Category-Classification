{
 "cells": [
  {
   "cell_type": "markdown",
   "id": "520a2fad-8d58-484d-9ad3-da10d01a9010",
   "metadata": {},
   "source": [
    "**Importing the Modules**"
   ]
  },
  {
   "cell_type": "code",
   "execution_count": 1,
   "id": "898082c2-fa26-4836-85d1-476e72c98ab6",
   "metadata": {},
   "outputs": [],
   "source": [
    "# Import Packages\n",
    "import numpy as np\n",
    "import matplotlib.pyplot as plt\n",
    "import seaborn as sns\n",
    "import pandas as pd\n",
    "\n",
    "import warnings\n",
    "warnings.filterwarnings('ignore')"
   ]
  },
  {
   "cell_type": "markdown",
   "metadata": {},
   "source": [
    "**Reading CSV file for Correlation**"
   ]
  },
  {
   "cell_type": "code",
   "execution_count": 2,
   "id": "7ea6f658-ae64-4a39-b923-61777e6e6260",
   "metadata": {},
   "outputs": [],
   "source": [
    "#importing the dataset as a dataframe\n",
    "df = pd.read_csv(\"iris_flower.csv\")"
   ]
  },
  {
   "cell_type": "code",
   "execution_count": 3,
   "id": "b5052527-ce73-44b9-8b36-bb46623caa4d",
   "metadata": {},
   "outputs": [
    {
     "data": {
      "text/html": [
       "<div>\n",
       "<style scoped>\n",
       "    .dataframe tbody tr th:only-of-type {\n",
       "        vertical-align: middle;\n",
       "    }\n",
       "\n",
       "    .dataframe tbody tr th {\n",
       "        vertical-align: top;\n",
       "    }\n",
       "\n",
       "    .dataframe thead th {\n",
       "        text-align: right;\n",
       "    }\n",
       "</style>\n",
       "<table border=\"1\" class=\"dataframe\">\n",
       "  <thead>\n",
       "    <tr style=\"text-align: right;\">\n",
       "      <th></th>\n",
       "      <th>Id</th>\n",
       "      <th>SepalLengthCm</th>\n",
       "      <th>SepalWidthCm</th>\n",
       "      <th>PetalLengthCm</th>\n",
       "      <th>PetalWidthCm</th>\n",
       "      <th>Species</th>\n",
       "    </tr>\n",
       "  </thead>\n",
       "  <tbody>\n",
       "    <tr>\n",
       "      <th>0</th>\n",
       "      <td>1</td>\n",
       "      <td>5.1</td>\n",
       "      <td>3.5</td>\n",
       "      <td>1.4</td>\n",
       "      <td>0.2</td>\n",
       "      <td>Iris-setosa</td>\n",
       "    </tr>\n",
       "    <tr>\n",
       "      <th>1</th>\n",
       "      <td>2</td>\n",
       "      <td>4.9</td>\n",
       "      <td>3.0</td>\n",
       "      <td>1.4</td>\n",
       "      <td>0.2</td>\n",
       "      <td>Iris-setosa</td>\n",
       "    </tr>\n",
       "    <tr>\n",
       "      <th>2</th>\n",
       "      <td>3</td>\n",
       "      <td>4.7</td>\n",
       "      <td>3.2</td>\n",
       "      <td>1.3</td>\n",
       "      <td>0.2</td>\n",
       "      <td>Iris-setosa</td>\n",
       "    </tr>\n",
       "    <tr>\n",
       "      <th>3</th>\n",
       "      <td>4</td>\n",
       "      <td>4.6</td>\n",
       "      <td>3.1</td>\n",
       "      <td>1.5</td>\n",
       "      <td>0.2</td>\n",
       "      <td>Iris-setosa</td>\n",
       "    </tr>\n",
       "    <tr>\n",
       "      <th>4</th>\n",
       "      <td>5</td>\n",
       "      <td>5.0</td>\n",
       "      <td>3.6</td>\n",
       "      <td>1.4</td>\n",
       "      <td>0.2</td>\n",
       "      <td>Iris-setosa</td>\n",
       "    </tr>\n",
       "    <tr>\n",
       "      <th>...</th>\n",
       "      <td>...</td>\n",
       "      <td>...</td>\n",
       "      <td>...</td>\n",
       "      <td>...</td>\n",
       "      <td>...</td>\n",
       "      <td>...</td>\n",
       "    </tr>\n",
       "    <tr>\n",
       "      <th>145</th>\n",
       "      <td>146</td>\n",
       "      <td>6.7</td>\n",
       "      <td>3.0</td>\n",
       "      <td>5.2</td>\n",
       "      <td>2.3</td>\n",
       "      <td>Iris-virginica</td>\n",
       "    </tr>\n",
       "    <tr>\n",
       "      <th>146</th>\n",
       "      <td>147</td>\n",
       "      <td>6.3</td>\n",
       "      <td>2.5</td>\n",
       "      <td>5.0</td>\n",
       "      <td>1.9</td>\n",
       "      <td>Iris-virginica</td>\n",
       "    </tr>\n",
       "    <tr>\n",
       "      <th>147</th>\n",
       "      <td>148</td>\n",
       "      <td>6.5</td>\n",
       "      <td>3.0</td>\n",
       "      <td>5.2</td>\n",
       "      <td>2.0</td>\n",
       "      <td>Iris-virginica</td>\n",
       "    </tr>\n",
       "    <tr>\n",
       "      <th>148</th>\n",
       "      <td>149</td>\n",
       "      <td>6.2</td>\n",
       "      <td>3.4</td>\n",
       "      <td>5.4</td>\n",
       "      <td>2.3</td>\n",
       "      <td>Iris-virginica</td>\n",
       "    </tr>\n",
       "    <tr>\n",
       "      <th>149</th>\n",
       "      <td>150</td>\n",
       "      <td>5.9</td>\n",
       "      <td>3.0</td>\n",
       "      <td>5.1</td>\n",
       "      <td>1.8</td>\n",
       "      <td>Iris-virginica</td>\n",
       "    </tr>\n",
       "  </tbody>\n",
       "</table>\n",
       "<p>150 rows × 6 columns</p>\n",
       "</div>"
      ],
      "text/plain": [
       "      Id  SepalLengthCm  SepalWidthCm  PetalLengthCm  PetalWidthCm  \\\n",
       "0      1            5.1           3.5            1.4           0.2   \n",
       "1      2            4.9           3.0            1.4           0.2   \n",
       "2      3            4.7           3.2            1.3           0.2   \n",
       "3      4            4.6           3.1            1.5           0.2   \n",
       "4      5            5.0           3.6            1.4           0.2   \n",
       "..   ...            ...           ...            ...           ...   \n",
       "145  146            6.7           3.0            5.2           2.3   \n",
       "146  147            6.3           2.5            5.0           1.9   \n",
       "147  148            6.5           3.0            5.2           2.0   \n",
       "148  149            6.2           3.4            5.4           2.3   \n",
       "149  150            5.9           3.0            5.1           1.8   \n",
       "\n",
       "            Species  \n",
       "0       Iris-setosa  \n",
       "1       Iris-setosa  \n",
       "2       Iris-setosa  \n",
       "3       Iris-setosa  \n",
       "4       Iris-setosa  \n",
       "..              ...  \n",
       "145  Iris-virginica  \n",
       "146  Iris-virginica  \n",
       "147  Iris-virginica  \n",
       "148  Iris-virginica  \n",
       "149  Iris-virginica  \n",
       "\n",
       "[150 rows x 6 columns]"
      ]
     },
     "execution_count": 3,
     "metadata": {},
     "output_type": "execute_result"
    }
   ],
   "source": [
    "#displaying the dataframe\n",
    "df"
   ]
  },
  {
   "cell_type": "code",
   "execution_count": 4,
   "id": "2993d8f4",
   "metadata": {},
   "outputs": [
    {
     "data": {
      "text/html": [
       "<div>\n",
       "<style scoped>\n",
       "    .dataframe tbody tr th:only-of-type {\n",
       "        vertical-align: middle;\n",
       "    }\n",
       "\n",
       "    .dataframe tbody tr th {\n",
       "        vertical-align: top;\n",
       "    }\n",
       "\n",
       "    .dataframe thead th {\n",
       "        text-align: right;\n",
       "    }\n",
       "</style>\n",
       "<table border=\"1\" class=\"dataframe\">\n",
       "  <thead>\n",
       "    <tr style=\"text-align: right;\">\n",
       "      <th></th>\n",
       "      <th>Id</th>\n",
       "      <th>SepalLengthCm</th>\n",
       "      <th>SepalWidthCm</th>\n",
       "      <th>PetalLengthCm</th>\n",
       "      <th>PetalWidthCm</th>\n",
       "    </tr>\n",
       "  </thead>\n",
       "  <tbody>\n",
       "    <tr>\n",
       "      <th>count</th>\n",
       "      <td>150.000000</td>\n",
       "      <td>150.000000</td>\n",
       "      <td>150.000000</td>\n",
       "      <td>150.000000</td>\n",
       "      <td>150.000000</td>\n",
       "    </tr>\n",
       "    <tr>\n",
       "      <th>mean</th>\n",
       "      <td>75.500000</td>\n",
       "      <td>5.843333</td>\n",
       "      <td>3.054000</td>\n",
       "      <td>3.758667</td>\n",
       "      <td>1.198667</td>\n",
       "    </tr>\n",
       "    <tr>\n",
       "      <th>std</th>\n",
       "      <td>43.445368</td>\n",
       "      <td>0.828066</td>\n",
       "      <td>0.433594</td>\n",
       "      <td>1.764420</td>\n",
       "      <td>0.763161</td>\n",
       "    </tr>\n",
       "    <tr>\n",
       "      <th>min</th>\n",
       "      <td>1.000000</td>\n",
       "      <td>4.300000</td>\n",
       "      <td>2.000000</td>\n",
       "      <td>1.000000</td>\n",
       "      <td>0.100000</td>\n",
       "    </tr>\n",
       "    <tr>\n",
       "      <th>25%</th>\n",
       "      <td>38.250000</td>\n",
       "      <td>5.100000</td>\n",
       "      <td>2.800000</td>\n",
       "      <td>1.600000</td>\n",
       "      <td>0.300000</td>\n",
       "    </tr>\n",
       "    <tr>\n",
       "      <th>50%</th>\n",
       "      <td>75.500000</td>\n",
       "      <td>5.800000</td>\n",
       "      <td>3.000000</td>\n",
       "      <td>4.350000</td>\n",
       "      <td>1.300000</td>\n",
       "    </tr>\n",
       "    <tr>\n",
       "      <th>75%</th>\n",
       "      <td>112.750000</td>\n",
       "      <td>6.400000</td>\n",
       "      <td>3.300000</td>\n",
       "      <td>5.100000</td>\n",
       "      <td>1.800000</td>\n",
       "    </tr>\n",
       "    <tr>\n",
       "      <th>max</th>\n",
       "      <td>150.000000</td>\n",
       "      <td>7.900000</td>\n",
       "      <td>4.400000</td>\n",
       "      <td>6.900000</td>\n",
       "      <td>2.500000</td>\n",
       "    </tr>\n",
       "  </tbody>\n",
       "</table>\n",
       "</div>"
      ],
      "text/plain": [
       "               Id  SepalLengthCm  SepalWidthCm  PetalLengthCm  PetalWidthCm\n",
       "count  150.000000     150.000000    150.000000     150.000000    150.000000\n",
       "mean    75.500000       5.843333      3.054000       3.758667      1.198667\n",
       "std     43.445368       0.828066      0.433594       1.764420      0.763161\n",
       "min      1.000000       4.300000      2.000000       1.000000      0.100000\n",
       "25%     38.250000       5.100000      2.800000       1.600000      0.300000\n",
       "50%     75.500000       5.800000      3.000000       4.350000      1.300000\n",
       "75%    112.750000       6.400000      3.300000       5.100000      1.800000\n",
       "max    150.000000       7.900000      4.400000       6.900000      2.500000"
      ]
     },
     "execution_count": 4,
     "metadata": {},
     "output_type": "execute_result"
    }
   ],
   "source": [
    "df.describe()"
   ]
  },
  {
   "cell_type": "code",
   "execution_count": 5,
   "id": "3c5f9ec1-b32f-4a44-8b6a-52fbd16e3870",
   "metadata": {},
   "outputs": [
    {
     "data": {
      "text/plain": [
       "(150, 6)"
      ]
     },
     "execution_count": 5,
     "metadata": {},
     "output_type": "execute_result"
    }
   ],
   "source": [
    "#finding size of dataframe\n",
    "df.shape"
   ]
  },
  {
   "cell_type": "code",
   "execution_count": 6,
   "id": "cf76b0de-312f-4902-b03f-f2926fd177aa",
   "metadata": {},
   "outputs": [
    {
     "data": {
      "text/plain": [
       "Id               0\n",
       "SepalLengthCm    0\n",
       "SepalWidthCm     0\n",
       "PetalLengthCm    0\n",
       "PetalWidthCm     0\n",
       "Species          0\n",
       "dtype: int64"
      ]
     },
     "execution_count": 6,
     "metadata": {},
     "output_type": "execute_result"
    }
   ],
   "source": [
    "#checking for null values\n",
    "df.isnull().sum()"
   ]
  },
  {
   "cell_type": "code",
   "execution_count": 7,
   "id": "aad771c1-7bc2-476b-adaa-fd9fbefa65dd",
   "metadata": {},
   "outputs": [
    {
     "name": "stdout",
     "output_type": "stream",
     "text": [
      "<class 'pandas.core.frame.DataFrame'>\n",
      "RangeIndex: 150 entries, 0 to 149\n",
      "Data columns (total 6 columns):\n",
      " #   Column         Non-Null Count  Dtype  \n",
      "---  ------         --------------  -----  \n",
      " 0   Id             150 non-null    int64  \n",
      " 1   SepalLengthCm  150 non-null    float64\n",
      " 2   SepalWidthCm   150 non-null    float64\n",
      " 3   PetalLengthCm  150 non-null    float64\n",
      " 4   PetalWidthCm   150 non-null    float64\n",
      " 5   Species        150 non-null    object \n",
      "dtypes: float64(4), int64(1), object(1)\n",
      "memory usage: 7.2+ KB\n"
     ]
    }
   ],
   "source": [
    "df.info()"
   ]
  },
  {
   "cell_type": "markdown",
   "metadata": {},
   "source": [
    "**Renaming Columns name**"
   ]
  },
  {
   "cell_type": "code",
   "execution_count": 8,
   "id": "3f4e56ba-3f60-46fd-bbbe-730f4194a865",
   "metadata": {},
   "outputs": [],
   "source": [
    "#renaming the columns for easier use\n",
    "df.rename(columns={'SepalLengthCm': 'sepalLength', 'SepalWidthCm': 'sepalWidth', 'PetalLengthCm': 'petalLength', 'PetalWidthCm': 'petalWidth', 'Species': 'species'}, inplace=True)\n",
    "df.rename(columns={'Id': 'id'}, inplace=True)"
   ]
  },
  {
   "cell_type": "code",
   "execution_count": 9,
   "id": "6e70296d-92b6-4211-874d-ca77136861a5",
   "metadata": {},
   "outputs": [],
   "source": [
    "#removing the 'id' column as it is irrelevant\n",
    "df = df.drop('id', axis=1)"
   ]
  },
  {
   "cell_type": "code",
   "execution_count": 10,
   "id": "43b20590-f54d-4acd-a389-5d6da645ae1e",
   "metadata": {},
   "outputs": [
    {
     "data": {
      "text/html": [
       "<div>\n",
       "<style scoped>\n",
       "    .dataframe tbody tr th:only-of-type {\n",
       "        vertical-align: middle;\n",
       "    }\n",
       "\n",
       "    .dataframe tbody tr th {\n",
       "        vertical-align: top;\n",
       "    }\n",
       "\n",
       "    .dataframe thead th {\n",
       "        text-align: right;\n",
       "    }\n",
       "</style>\n",
       "<table border=\"1\" class=\"dataframe\">\n",
       "  <thead>\n",
       "    <tr style=\"text-align: right;\">\n",
       "      <th></th>\n",
       "      <th>sepalLength</th>\n",
       "      <th>sepalWidth</th>\n",
       "      <th>petalLength</th>\n",
       "      <th>petalWidth</th>\n",
       "    </tr>\n",
       "  </thead>\n",
       "  <tbody>\n",
       "    <tr>\n",
       "      <th>count</th>\n",
       "      <td>150.000000</td>\n",
       "      <td>150.000000</td>\n",
       "      <td>150.000000</td>\n",
       "      <td>150.000000</td>\n",
       "    </tr>\n",
       "    <tr>\n",
       "      <th>mean</th>\n",
       "      <td>5.843333</td>\n",
       "      <td>3.054000</td>\n",
       "      <td>3.758667</td>\n",
       "      <td>1.198667</td>\n",
       "    </tr>\n",
       "    <tr>\n",
       "      <th>std</th>\n",
       "      <td>0.828066</td>\n",
       "      <td>0.433594</td>\n",
       "      <td>1.764420</td>\n",
       "      <td>0.763161</td>\n",
       "    </tr>\n",
       "    <tr>\n",
       "      <th>min</th>\n",
       "      <td>4.300000</td>\n",
       "      <td>2.000000</td>\n",
       "      <td>1.000000</td>\n",
       "      <td>0.100000</td>\n",
       "    </tr>\n",
       "    <tr>\n",
       "      <th>25%</th>\n",
       "      <td>5.100000</td>\n",
       "      <td>2.800000</td>\n",
       "      <td>1.600000</td>\n",
       "      <td>0.300000</td>\n",
       "    </tr>\n",
       "    <tr>\n",
       "      <th>50%</th>\n",
       "      <td>5.800000</td>\n",
       "      <td>3.000000</td>\n",
       "      <td>4.350000</td>\n",
       "      <td>1.300000</td>\n",
       "    </tr>\n",
       "    <tr>\n",
       "      <th>75%</th>\n",
       "      <td>6.400000</td>\n",
       "      <td>3.300000</td>\n",
       "      <td>5.100000</td>\n",
       "      <td>1.800000</td>\n",
       "    </tr>\n",
       "    <tr>\n",
       "      <th>max</th>\n",
       "      <td>7.900000</td>\n",
       "      <td>4.400000</td>\n",
       "      <td>6.900000</td>\n",
       "      <td>2.500000</td>\n",
       "    </tr>\n",
       "  </tbody>\n",
       "</table>\n",
       "</div>"
      ],
      "text/plain": [
       "       sepalLength  sepalWidth  petalLength  petalWidth\n",
       "count   150.000000  150.000000   150.000000  150.000000\n",
       "mean      5.843333    3.054000     3.758667    1.198667\n",
       "std       0.828066    0.433594     1.764420    0.763161\n",
       "min       4.300000    2.000000     1.000000    0.100000\n",
       "25%       5.100000    2.800000     1.600000    0.300000\n",
       "50%       5.800000    3.000000     4.350000    1.300000\n",
       "75%       6.400000    3.300000     5.100000    1.800000\n",
       "max       7.900000    4.400000     6.900000    2.500000"
      ]
     },
     "execution_count": 10,
     "metadata": {},
     "output_type": "execute_result"
    }
   ],
   "source": [
    "#5-number summary\n",
    "df.describe()"
   ]
  },
  {
   "cell_type": "markdown",
   "id": "24198c0c-9038-4f58-bc41-31b40a10ee63",
   "metadata": {},
   "source": [
    "# Data Preprocessing #"
   ]
  },
  {
   "cell_type": "code",
   "execution_count": 11,
   "id": "033203d3-e91a-4d57-b58c-3aa59b16a548",
   "metadata": {},
   "outputs": [],
   "source": [
    "#importing the necessary libraries for encoding, standardization and splitting the dataset\n",
    "from sklearn.preprocessing import LabelEncoder, StandardScaler\n",
    "from sklearn.model_selection import train_test_split"
   ]
  },
  {
   "cell_type": "markdown",
   "metadata": {},
   "source": [
    "**Enoding the Species column from object to int**"
   ]
  },
  {
   "cell_type": "code",
   "execution_count": 12,
   "id": "ef867828-5aa6-4289-913e-a9ba6cdd7f4b",
   "metadata": {},
   "outputs": [],
   "source": [
    "#encoding the categorical variable (species)\n",
    "encoder = LabelEncoder()\n",
    "df['species'] = encoder.fit_transform(df['species'])"
   ]
  },
  {
   "cell_type": "markdown",
   "metadata": {},
   "source": [
    "**Splitting data into features and target**"
   ]
  },
  {
   "cell_type": "code",
   "execution_count": 13,
   "id": "0b77a936-2a34-4834-a878-9df31b141736",
   "metadata": {},
   "outputs": [],
   "source": [
    "#splitting the data into features and target\n",
    "X = df.drop('species', axis=1)\n",
    "y = df['species']"
   ]
  },
  {
   "cell_type": "code",
   "execution_count": 14,
   "metadata": {},
   "outputs": [
    {
     "data": {
      "text/html": [
       "<div>\n",
       "<style scoped>\n",
       "    .dataframe tbody tr th:only-of-type {\n",
       "        vertical-align: middle;\n",
       "    }\n",
       "\n",
       "    .dataframe tbody tr th {\n",
       "        vertical-align: top;\n",
       "    }\n",
       "\n",
       "    .dataframe thead th {\n",
       "        text-align: right;\n",
       "    }\n",
       "</style>\n",
       "<table border=\"1\" class=\"dataframe\">\n",
       "  <thead>\n",
       "    <tr style=\"text-align: right;\">\n",
       "      <th></th>\n",
       "      <th>sepalLength</th>\n",
       "      <th>sepalWidth</th>\n",
       "      <th>petalLength</th>\n",
       "      <th>petalWidth</th>\n",
       "      <th>species</th>\n",
       "    </tr>\n",
       "  </thead>\n",
       "  <tbody>\n",
       "    <tr>\n",
       "      <th>0</th>\n",
       "      <td>5.1</td>\n",
       "      <td>3.5</td>\n",
       "      <td>1.4</td>\n",
       "      <td>0.2</td>\n",
       "      <td>0</td>\n",
       "    </tr>\n",
       "    <tr>\n",
       "      <th>1</th>\n",
       "      <td>4.9</td>\n",
       "      <td>3.0</td>\n",
       "      <td>1.4</td>\n",
       "      <td>0.2</td>\n",
       "      <td>0</td>\n",
       "    </tr>\n",
       "    <tr>\n",
       "      <th>2</th>\n",
       "      <td>4.7</td>\n",
       "      <td>3.2</td>\n",
       "      <td>1.3</td>\n",
       "      <td>0.2</td>\n",
       "      <td>0</td>\n",
       "    </tr>\n",
       "    <tr>\n",
       "      <th>3</th>\n",
       "      <td>4.6</td>\n",
       "      <td>3.1</td>\n",
       "      <td>1.5</td>\n",
       "      <td>0.2</td>\n",
       "      <td>0</td>\n",
       "    </tr>\n",
       "    <tr>\n",
       "      <th>4</th>\n",
       "      <td>5.0</td>\n",
       "      <td>3.6</td>\n",
       "      <td>1.4</td>\n",
       "      <td>0.2</td>\n",
       "      <td>0</td>\n",
       "    </tr>\n",
       "  </tbody>\n",
       "</table>\n",
       "</div>"
      ],
      "text/plain": [
       "   sepalLength  sepalWidth  petalLength  petalWidth  species\n",
       "0          5.1         3.5          1.4         0.2        0\n",
       "1          4.9         3.0          1.4         0.2        0\n",
       "2          4.7         3.2          1.3         0.2        0\n",
       "3          4.6         3.1          1.5         0.2        0\n",
       "4          5.0         3.6          1.4         0.2        0"
      ]
     },
     "execution_count": 14,
     "metadata": {},
     "output_type": "execute_result"
    }
   ],
   "source": [
    "df.head()"
   ]
  },
  {
   "cell_type": "code",
   "execution_count": 15,
   "id": "81cf7f1a",
   "metadata": {},
   "outputs": [],
   "source": [
    "df0 = df[df.species == 0]\n",
    "df1 = df[df.species == 1]\n",
    "df2 = df[df.species == 2]"
   ]
  },
  {
   "cell_type": "code",
   "execution_count": 16,
   "id": "a75d28ea",
   "metadata": {},
   "outputs": [
    {
     "data": {
      "image/png": "[encoded data removed]",
      "text/plain": [
       "<Figure size 800x400 with 1 Axes>"
      ]
     },
     "metadata": {},
     "output_type": "display_data"
    }
   ],
   "source": [
    "plt.figure(figsize=(8,4))\n",
    "plt.xlabel('Sepal Length')\n",
    "plt.ylabel('Sepal Width')\n",
    "plt.scatter(df0['sepalLength'], df0['sepalWidth'],color=\"green\",marker='+' , label = df.species == 0)\n",
    "plt.scatter(df1['sepalLength'], df1['sepalWidth'],color=\"blue\",marker='.',  label = df.species == 1)\n",
    "plt.scatter(df2['sepalLength'], df2['sepalWidth'],color=\"red\",marker='*',  label = df.species == 2)\n",
    "\n",
    "plt.show()"
   ]
  },
  {
   "cell_type": "markdown",
   "id": "a5cb14c6-ec69-4d11-8ca9-b4667672890a",
   "metadata": {},
   "source": [
    "**Visualizing Heatmap**"
   ]
  },
  {
   "cell_type": "code",
   "execution_count": 17,
   "id": "26fccdca-162c-4350-9ff1-893f57c4c68a",
   "metadata": {},
   "outputs": [],
   "source": [
    "correlation=df.corr()"
   ]
  },
  {
   "cell_type": "code",
   "execution_count": 18,
   "id": "9d67bfb2-7a34-4d08-baca-a429600ef95b",
   "metadata": {},
   "outputs": [
    {
     "data": {
      "text/plain": [
       "<AxesSubplot: >"
      ]
     },
     "execution_count": 18,
     "metadata": {},
     "output_type": "execute_result"
    },
    {
     "data": {
      "image/png": "[encoded data removed]",
      "text/plain": [
       "<Figure size 600x700 with 2 Axes>"
      ]
     },
     "metadata": {},
     "output_type": "display_data"
    }
   ],
   "source": [
    "plt.figure(figsize=(6,7))\n",
    "sns.heatmap(correlation, cbar=True, square=True, fmt='.1f',annot=True,\n",
    "             annot_kws={'size':7})"
   ]
  },
  {
   "cell_type": "code",
   "execution_count": null,
   "id": "f3750805",
   "metadata": {},
   "outputs": [],
   "source": []
  },
  {
   "cell_type": "markdown",
   "id": "636fb7e1-639d-4240-a21c-7b9672806c9b",
   "metadata": {},
   "source": [
    "**Graphical Representation of Average Features values**"
   ]
  },
  {
   "cell_type": "code",
   "execution_count": 19,
   "id": "b74b8752-4cef-4596-93bf-8f4db7c2d06b",
   "metadata": {},
   "outputs": [
    {
     "data": {
      "image/png": "[encoded data removed]",
      "text/plain": [
       "<Figure size 640x480 with 1 Axes>"
      ]
     },
     "metadata": {},
     "output_type": "display_data"
    }
   ],
   "source": [
    "Xx = df[['sepalLength', 'sepalWidth', 'petalLength', 'petalWidth']].values\n",
    "Yy = df['species'].values\n",
    "\n",
    "unique_Y = np.unique(Yy)\n",
    "num_features = X.shape[1]\n",
    "Y_Data = np.zeros((num_features, len(unique_Y),), dtype='float32')\n",
    "\n",
    "for j in unique_Y:\n",
    "    for i in range(num_features):\n",
    "        Y_Data[i, j] = np.mean(Xx[:, i][Yy == j].astype('float32'))\n",
    "\n",
    "# Transpose the data for plotting\n",
    "Y_Data_reshaped = Y_Data.T\n",
    "\n",
    "# Define the feature labels\n",
    "feature_labels = [\"sepalLength\", \"sepalWidth\", \"petalLength\", \"petalWidth\"]\n",
    "\n",
    "# Create a bar plot\n",
    "x = np.arange(len(feature_labels))\n",
    "width = 0.2\n",
    "\n",
    "# Custom class labels\n",
    "class_labels = {0: 'setosa', 1: 'versicolor', 2: 'virginica'}\n",
    "\n",
    "for i in range(len(unique_Y)):\n",
    "    plt.bar(x + i * width, Y_Data_reshaped[i], width, label=f'{class_labels[unique_Y[i]]}')\n",
    "\n",
    "plt.xlabel('Features')\n",
    "plt.ylabel('Values in cm.')\n",
    "plt.title('Average Feature Values')\n",
    "plt.xticks(x + width, feature_labels)\n",
    "plt.legend()\n",
    "plt.show()\n"
   ]
  },
  {
   "cell_type": "markdown",
   "metadata": {},
   "source": [
    "**Reading CSV file for trianing the models**"
   ]
  },
  {
   "cell_type": "code",
   "execution_count": 20,
   "id": "e3a0ab5d-4d9e-4ad9-9eec-65a2d4a9b842",
   "metadata": {},
   "outputs": [],
   "source": [
    "df = pd.read_csv(\"iris_flower.csv\")"
   ]
  },
  {
   "cell_type": "code",
   "execution_count": 21,
   "id": "cb8cb0d7-c966-4cac-a4f1-f2d77cfa4a73",
   "metadata": {},
   "outputs": [
    {
     "data": {
      "text/html": [
       "<div>\n",
       "<style scoped>\n",
       "    .dataframe tbody tr th:only-of-type {\n",
       "        vertical-align: middle;\n",
       "    }\n",
       "\n",
       "    .dataframe tbody tr th {\n",
       "        vertical-align: top;\n",
       "    }\n",
       "\n",
       "    .dataframe thead th {\n",
       "        text-align: right;\n",
       "    }\n",
       "</style>\n",
       "<table border=\"1\" class=\"dataframe\">\n",
       "  <thead>\n",
       "    <tr style=\"text-align: right;\">\n",
       "      <th></th>\n",
       "      <th>Id</th>\n",
       "      <th>SepalLengthCm</th>\n",
       "      <th>SepalWidthCm</th>\n",
       "      <th>PetalLengthCm</th>\n",
       "      <th>PetalWidthCm</th>\n",
       "      <th>Species</th>\n",
       "    </tr>\n",
       "  </thead>\n",
       "  <tbody>\n",
       "    <tr>\n",
       "      <th>0</th>\n",
       "      <td>1</td>\n",
       "      <td>5.1</td>\n",
       "      <td>3.5</td>\n",
       "      <td>1.4</td>\n",
       "      <td>0.2</td>\n",
       "      <td>Iris-setosa</td>\n",
       "    </tr>\n",
       "    <tr>\n",
       "      <th>1</th>\n",
       "      <td>2</td>\n",
       "      <td>4.9</td>\n",
       "      <td>3.0</td>\n",
       "      <td>1.4</td>\n",
       "      <td>0.2</td>\n",
       "      <td>Iris-setosa</td>\n",
       "    </tr>\n",
       "    <tr>\n",
       "      <th>2</th>\n",
       "      <td>3</td>\n",
       "      <td>4.7</td>\n",
       "      <td>3.2</td>\n",
       "      <td>1.3</td>\n",
       "      <td>0.2</td>\n",
       "      <td>Iris-setosa</td>\n",
       "    </tr>\n",
       "    <tr>\n",
       "      <th>3</th>\n",
       "      <td>4</td>\n",
       "      <td>4.6</td>\n",
       "      <td>3.1</td>\n",
       "      <td>1.5</td>\n",
       "      <td>0.2</td>\n",
       "      <td>Iris-setosa</td>\n",
       "    </tr>\n",
       "    <tr>\n",
       "      <th>4</th>\n",
       "      <td>5</td>\n",
       "      <td>5.0</td>\n",
       "      <td>3.6</td>\n",
       "      <td>1.4</td>\n",
       "      <td>0.2</td>\n",
       "      <td>Iris-setosa</td>\n",
       "    </tr>\n",
       "    <tr>\n",
       "      <th>...</th>\n",
       "      <td>...</td>\n",
       "      <td>...</td>\n",
       "      <td>...</td>\n",
       "      <td>...</td>\n",
       "      <td>...</td>\n",
       "      <td>...</td>\n",
       "    </tr>\n",
       "    <tr>\n",
       "      <th>145</th>\n",
       "      <td>146</td>\n",
       "      <td>6.7</td>\n",
       "      <td>3.0</td>\n",
       "      <td>5.2</td>\n",
       "      <td>2.3</td>\n",
       "      <td>Iris-virginica</td>\n",
       "    </tr>\n",
       "    <tr>\n",
       "      <th>146</th>\n",
       "      <td>147</td>\n",
       "      <td>6.3</td>\n",
       "      <td>2.5</td>\n",
       "      <td>5.0</td>\n",
       "      <td>1.9</td>\n",
       "      <td>Iris-virginica</td>\n",
       "    </tr>\n",
       "    <tr>\n",
       "      <th>147</th>\n",
       "      <td>148</td>\n",
       "      <td>6.5</td>\n",
       "      <td>3.0</td>\n",
       "      <td>5.2</td>\n",
       "      <td>2.0</td>\n",
       "      <td>Iris-virginica</td>\n",
       "    </tr>\n",
       "    <tr>\n",
       "      <th>148</th>\n",
       "      <td>149</td>\n",
       "      <td>6.2</td>\n",
       "      <td>3.4</td>\n",
       "      <td>5.4</td>\n",
       "      <td>2.3</td>\n",
       "      <td>Iris-virginica</td>\n",
       "    </tr>\n",
       "    <tr>\n",
       "      <th>149</th>\n",
       "      <td>150</td>\n",
       "      <td>5.9</td>\n",
       "      <td>3.0</td>\n",
       "      <td>5.1</td>\n",
       "      <td>1.8</td>\n",
       "      <td>Iris-virginica</td>\n",
       "    </tr>\n",
       "  </tbody>\n",
       "</table>\n",
       "<p>150 rows × 6 columns</p>\n",
       "</div>"
      ],
      "text/plain": [
       "      Id  SepalLengthCm  SepalWidthCm  PetalLengthCm  PetalWidthCm  \\\n",
       "0      1            5.1           3.5            1.4           0.2   \n",
       "1      2            4.9           3.0            1.4           0.2   \n",
       "2      3            4.7           3.2            1.3           0.2   \n",
       "3      4            4.6           3.1            1.5           0.2   \n",
       "4      5            5.0           3.6            1.4           0.2   \n",
       "..   ...            ...           ...            ...           ...   \n",
       "145  146            6.7           3.0            5.2           2.3   \n",
       "146  147            6.3           2.5            5.0           1.9   \n",
       "147  148            6.5           3.0            5.2           2.0   \n",
       "148  149            6.2           3.4            5.4           2.3   \n",
       "149  150            5.9           3.0            5.1           1.8   \n",
       "\n",
       "            Species  \n",
       "0       Iris-setosa  \n",
       "1       Iris-setosa  \n",
       "2       Iris-setosa  \n",
       "3       Iris-setosa  \n",
       "4       Iris-setosa  \n",
       "..              ...  \n",
       "145  Iris-virginica  \n",
       "146  Iris-virginica  \n",
       "147  Iris-virginica  \n",
       "148  Iris-virginica  \n",
       "149  Iris-virginica  \n",
       "\n",
       "[150 rows x 6 columns]"
      ]
     },
     "execution_count": 21,
     "metadata": {},
     "output_type": "execute_result"
    }
   ],
   "source": [
    "df"
   ]
  },
  {
   "cell_type": "markdown",
   "id": "6f749eb5-5b8f-4576-9c47-0600ea3dd51a",
   "metadata": {},
   "source": [
    "**Splitting the data into training and testing**"
   ]
  },
  {
   "cell_type": "code",
   "execution_count": 22,
   "id": "56945930-0504-429c-a980-16fcdab20b10",
   "metadata": {},
   "outputs": [],
   "source": [
    "#splitting the data into training and testing sets\n",
    "X_train, X_test, y_train, y_test = train_test_split(X, y, test_size=0.2, random_state=49)"
   ]
  },
  {
   "cell_type": "code",
   "execution_count": 23,
   "id": "0d1e747c-39da-4f5b-ba0a-bd65eeadf5c7",
   "metadata": {},
   "outputs": [],
   "source": [
    "#scaling the numeric variables\n",
    "scaler = StandardScaler()\n",
    "X_train = scaler.fit_transform(X_train)\n",
    "X_test = scaler.transform(X_test)"
   ]
  },
  {
   "cell_type": "markdown",
   "id": "f656d9c4-0738-46a0-a5f3-b831f6b86d0b",
   "metadata": {},
   "source": [
    "# Applying ML models #"
   ]
  },
  {
   "cell_type": "code",
   "execution_count": null,
   "id": "29b6852a",
   "metadata": {},
   "outputs": [],
   "source": []
  },
  {
   "cell_type": "code",
   "execution_count": 24,
   "id": "3901a025",
   "metadata": {},
   "outputs": [],
   "source": [
    "import numpy as np\n",
    "import tensorflow as tf\n",
    "from tensorflow.keras.models import Sequential\n",
    "from tensorflow.keras.layers import Dense, Activation, MaxPooling2D\n",
    "from sklearn.datasets import load_iris\n",
    "from sklearn.model_selection import train_test_split\n",
    "from sklearn.preprocessing import StandardScaler"
   ]
  },
  {
   "cell_type": "code",
   "execution_count": 25,
   "metadata": {},
   "outputs": [
    {
     "name": "stdout",
     "output_type": "stream",
     "text": [
      "Epoch 1/150\n",
      "3/3 [==============================] - 1s 88ms/step - loss: 1.1054 - accuracy: 0.3854 - val_loss: 1.1116 - val_accuracy: 0.2083\n",
      "Epoch 2/150\n",
      "3/3 [==============================] - 0s 16ms/step - loss: 1.0882 - accuracy: 0.3854 - val_loss: 1.1262 - val_accuracy: 0.2083\n",
      "Epoch 3/150\n",
      "3/3 [==============================] - 0s 28ms/step - loss: 1.0823 - accuracy: 0.3854 - val_loss: 1.1381 - val_accuracy: 0.2083\n",
      "Epoch 4/150\n",
      "3/3 [==============================] - 0s 27ms/step - loss: 1.0624 - accuracy: 0.3854 - val_loss: 1.1057 - val_accuracy: 0.2083\n",
      "Epoch 5/150\n",
      "3/3 [==============================] - 0s 20ms/step - loss: 1.0233 - accuracy: 0.3854 - val_loss: 1.0410 - val_accuracy: 0.5833\n",
      "Epoch 6/150\n",
      "3/3 [==============================] - 0s 17ms/step - loss: 0.9569 - accuracy: 0.7083 - val_loss: 0.9585 - val_accuracy: 0.5833\n",
      "Epoch 7/150\n",
      "3/3 [==============================] - 0s 17ms/step - loss: 0.8571 - accuracy: 0.7083 - val_loss: 0.8543 - val_accuracy: 0.5833\n",
      "Epoch 8/150\n",
      "3/3 [==============================] - 0s 17ms/step - loss: 0.7454 - accuracy: 0.7083 - val_loss: 0.7687 - val_accuracy: 0.5833\n",
      "Epoch 9/150\n",
      "3/3 [==============================] - 0s 18ms/step - loss: 0.6526 - accuracy: 0.7083 - val_loss: 0.7065 - val_accuracy: 0.5833\n",
      "Epoch 10/150\n",
      "3/3 [==============================] - 0s 18ms/step - loss: 0.5857 - accuracy: 0.7083 - val_loss: 0.6604 - val_accuracy: 0.5833\n",
      "Epoch 11/150\n",
      "3/3 [==============================] - 0s 18ms/step - loss: 0.5413 - accuracy: 0.8021 - val_loss: 0.6235 - val_accuracy: 0.8333\n",
      "Epoch 12/150\n",
      "3/3 [==============================] - 0s 18ms/step - loss: 0.5045 - accuracy: 0.9167 - val_loss: 0.5946 - val_accuracy: 0.8333\n",
      "Epoch 13/150\n",
      "3/3 [==============================] - 0s 28ms/step - loss: 0.4727 - accuracy: 0.9271 - val_loss: 0.5635 - val_accuracy: 0.8333\n",
      "Epoch 14/150\n",
      "3/3 [==============================] - 0s 25ms/step - loss: 0.4415 - accuracy: 0.9271 - val_loss: 0.5302 - val_accuracy: 0.8333\n",
      "Epoch 15/150\n",
      "3/3 [==============================] - 0s 18ms/step - loss: 0.4095 - accuracy: 0.9271 - val_loss: 0.4924 - val_accuracy: 0.8333\n",
      "Epoch 16/150\n",
      "3/3 [==============================] - 0s 17ms/step - loss: 0.3814 - accuracy: 0.9167 - val_loss: 0.4483 - val_accuracy: 0.9167\n",
      "Epoch 17/150\n",
      "3/3 [==============================] - 0s 18ms/step - loss: 0.3429 - accuracy: 0.9271 - val_loss: 0.4176 - val_accuracy: 0.8750\n",
      "Epoch 18/150\n",
      "3/3 [==============================] - 0s 17ms/step - loss: 0.3099 - accuracy: 0.9479 - val_loss: 0.3724 - val_accuracy: 0.8750\n",
      "Epoch 19/150\n",
      "3/3 [==============================] - 0s 17ms/step - loss: 0.2670 - accuracy: 0.9792 - val_loss: 0.3358 - val_accuracy: 0.8750\n",
      "Epoch 20/150\n",
      "3/3 [==============================] - 0s 17ms/step - loss: 0.2424 - accuracy: 0.9583 - val_loss: 0.3017 - val_accuracy: 0.8750\n",
      "Epoch 21/150\n",
      "3/3 [==============================] - 0s 18ms/step - loss: 0.1920 - accuracy: 0.9792 - val_loss: 0.2700 - val_accuracy: 0.9167\n",
      "Epoch 22/150\n",
      "3/3 [==============================] - 0s 27ms/step - loss: 0.1740 - accuracy: 0.9792 - val_loss: 0.2459 - val_accuracy: 0.9167\n",
      "Epoch 23/150\n",
      "3/3 [==============================] - 0s 24ms/step - loss: 0.1370 - accuracy: 0.9896 - val_loss: 0.2431 - val_accuracy: 0.9167\n",
      "Epoch 24/150\n",
      "3/3 [==============================] - 0s 18ms/step - loss: 0.1247 - accuracy: 0.9896 - val_loss: 0.2210 - val_accuracy: 0.9167\n",
      "Epoch 25/150\n",
      "3/3 [==============================] - 0s 18ms/step - loss: 0.1064 - accuracy: 0.9792 - val_loss: 0.2011 - val_accuracy: 0.8750\n",
      "Epoch 26/150\n",
      "3/3 [==============================] - 0s 18ms/step - loss: 0.0884 - accuracy: 1.0000 - val_loss: 0.1971 - val_accuracy: 0.9583\n",
      "Epoch 27/150\n",
      "3/3 [==============================] - 0s 19ms/step - loss: 0.0797 - accuracy: 1.0000 - val_loss: 0.1889 - val_accuracy: 0.9167\n",
      "Epoch 28/150\n",
      "3/3 [==============================] - 0s 19ms/step - loss: 0.0733 - accuracy: 0.9896 - val_loss: 0.1943 - val_accuracy: 0.9167\n",
      "Epoch 29/150\n",
      "3/3 [==============================] - 0s 18ms/step - loss: 0.0595 - accuracy: 1.0000 - val_loss: 0.1890 - val_accuracy: 0.9167\n",
      "Epoch 30/150\n",
      "3/3 [==============================] - 0s 17ms/step - loss: 0.0667 - accuracy: 0.9896 - val_loss: 0.1860 - val_accuracy: 0.9167\n",
      "Epoch 31/150\n",
      "3/3 [==============================] - 0s 29ms/step - loss: 0.0556 - accuracy: 0.9896 - val_loss: 0.2336 - val_accuracy: 0.9167\n",
      "Epoch 32/150\n",
      "3/3 [==============================] - 0s 22ms/step - loss: 0.0506 - accuracy: 1.0000 - val_loss: 0.1853 - val_accuracy: 0.9167\n",
      "Epoch 33/150\n",
      "3/3 [==============================] - 0s 18ms/step - loss: 0.0517 - accuracy: 0.9896 - val_loss: 0.1834 - val_accuracy: 0.9583\n",
      "Epoch 34/150\n",
      "3/3 [==============================] - 0s 17ms/step - loss: 0.0409 - accuracy: 1.0000 - val_loss: 0.2361 - val_accuracy: 0.9167\n",
      "Epoch 35/150\n",
      "3/3 [==============================] - 0s 17ms/step - loss: 0.0413 - accuracy: 1.0000 - val_loss: 0.2194 - val_accuracy: 0.9167\n",
      "Epoch 36/150\n",
      "3/3 [==============================] - 0s 18ms/step - loss: 0.0365 - accuracy: 1.0000 - val_loss: 0.1684 - val_accuracy: 0.9167\n",
      "Epoch 37/150\n",
      "3/3 [==============================] - 0s 23ms/step - loss: 0.0448 - accuracy: 0.9896 - val_loss: 0.1707 - val_accuracy: 0.9583\n",
      "Epoch 38/150\n",
      "3/3 [==============================] - 0s 37ms/step - loss: 0.0318 - accuracy: 1.0000 - val_loss: 0.2712 - val_accuracy: 0.9167\n",
      "Epoch 39/150\n",
      "3/3 [==============================] - 0s 26ms/step - loss: 0.0350 - accuracy: 1.0000 - val_loss: 0.2257 - val_accuracy: 0.9167\n",
      "Epoch 40/150\n",
      "3/3 [==============================] - 0s 24ms/step - loss: 0.0297 - accuracy: 1.0000 - val_loss: 0.1812 - val_accuracy: 0.9583\n",
      "Epoch 41/150\n",
      "3/3 [==============================] - 0s 19ms/step - loss: 0.0285 - accuracy: 1.0000 - val_loss: 0.1615 - val_accuracy: 0.9167\n",
      "Epoch 42/150\n",
      "3/3 [==============================] - 0s 17ms/step - loss: 0.0280 - accuracy: 1.0000 - val_loss: 0.1577 - val_accuracy: 0.9167\n",
      "Epoch 43/150\n",
      "3/3 [==============================] - 0s 25ms/step - loss: 0.0270 - accuracy: 1.0000 - val_loss: 0.1607 - val_accuracy: 0.9167\n",
      "Epoch 44/150\n",
      "3/3 [==============================] - 0s 24ms/step - loss: 0.0260 - accuracy: 1.0000 - val_loss: 0.1768 - val_accuracy: 0.9583\n",
      "Epoch 45/150\n",
      "3/3 [==============================] - 0s 18ms/step - loss: 0.0250 - accuracy: 1.0000 - val_loss: 0.1971 - val_accuracy: 0.9167\n",
      "Epoch 46/150\n",
      "3/3 [==============================] - 0s 18ms/step - loss: 0.0244 - accuracy: 1.0000 - val_loss: 0.2087 - val_accuracy: 0.9167\n",
      "Epoch 47/150\n",
      "3/3 [==============================] - 0s 19ms/step - loss: 0.0238 - accuracy: 1.0000 - val_loss: 0.2022 - val_accuracy: 0.9167\n",
      "Epoch 48/150\n",
      "3/3 [==============================] - 0s 19ms/step - loss: 0.0231 - accuracy: 1.0000 - val_loss: 0.1891 - val_accuracy: 0.9583\n",
      "Epoch 49/150\n",
      "3/3 [==============================] - 0s 18ms/step - loss: 0.0225 - accuracy: 1.0000 - val_loss: 0.1764 - val_accuracy: 0.9583\n",
      "Epoch 50/150\n",
      "3/3 [==============================] - 0s 18ms/step - loss: 0.0219 - accuracy: 1.0000 - val_loss: 0.1705 - val_accuracy: 0.9583\n",
      "Epoch 51/150\n",
      "3/3 [==============================] - 0s 27ms/step - loss: 0.0214 - accuracy: 1.0000 - val_loss: 0.1702 - val_accuracy: 0.9583\n",
      "Epoch 52/150\n",
      "3/3 [==============================] - 0s 23ms/step - loss: 0.0209 - accuracy: 1.0000 - val_loss: 0.1712 - val_accuracy: 0.9583\n",
      "Epoch 53/150\n",
      "3/3 [==============================] - 0s 17ms/step - loss: 0.0205 - accuracy: 1.0000 - val_loss: 0.1731 - val_accuracy: 0.9583\n",
      "Epoch 54/150\n",
      "3/3 [==============================] - 0s 18ms/step - loss: 0.0200 - accuracy: 1.0000 - val_loss: 0.1751 - val_accuracy: 0.9583\n",
      "Epoch 55/150\n",
      "3/3 [==============================] - 0s 17ms/step - loss: 0.0196 - accuracy: 1.0000 - val_loss: 0.1776 - val_accuracy: 0.9583\n",
      "Epoch 56/150\n",
      "3/3 [==============================] - 0s 22ms/step - loss: 0.0192 - accuracy: 1.0000 - val_loss: 0.1810 - val_accuracy: 0.9583\n",
      "Epoch 57/150\n",
      "3/3 [==============================] - 0s 27ms/step - loss: 0.0188 - accuracy: 1.0000 - val_loss: 0.1834 - val_accuracy: 0.9583\n",
      "Epoch 58/150\n",
      "3/3 [==============================] - 0s 25ms/step - loss: 0.0185 - accuracy: 1.0000 - val_loss: 0.1843 - val_accuracy: 0.9583\n",
      "Epoch 59/150\n",
      "3/3 [==============================] - 0s 19ms/step - loss: 0.0181 - accuracy: 1.0000 - val_loss: 0.1866 - val_accuracy: 0.9583\n",
      "Epoch 60/150\n",
      "3/3 [==============================] - 0s 18ms/step - loss: 0.0178 - accuracy: 1.0000 - val_loss: 0.1859 - val_accuracy: 0.9583\n",
      "Epoch 61/150\n",
      "3/3 [==============================] - 0s 17ms/step - loss: 0.0174 - accuracy: 1.0000 - val_loss: 0.1838 - val_accuracy: 0.9583\n",
      "Epoch 62/150\n",
      "3/3 [==============================] - 0s 18ms/step - loss: 0.0171 - accuracy: 1.0000 - val_loss: 0.1833 - val_accuracy: 0.9583\n",
      "Epoch 63/150\n",
      "3/3 [==============================] - 0s 25ms/step - loss: 0.0168 - accuracy: 1.0000 - val_loss: 0.1833 - val_accuracy: 0.9583\n",
      "Epoch 64/150\n",
      "3/3 [==============================] - 0s 28ms/step - loss: 0.0165 - accuracy: 1.0000 - val_loss: 0.1836 - val_accuracy: 0.9583\n",
      "Epoch 65/150\n",
      "3/3 [==============================] - 0s 19ms/step - loss: 0.0162 - accuracy: 1.0000 - val_loss: 0.1846 - val_accuracy: 0.9583\n",
      "Epoch 66/150\n",
      "3/3 [==============================] - 0s 19ms/step - loss: 0.0160 - accuracy: 1.0000 - val_loss: 0.1855 - val_accuracy: 0.9583\n",
      "Epoch 67/150\n",
      "3/3 [==============================] - 0s 18ms/step - loss: 0.0157 - accuracy: 1.0000 - val_loss: 0.1854 - val_accuracy: 0.9583\n",
      "Epoch 68/150\n",
      "3/3 [==============================] - 0s 20ms/step - loss: 0.0154 - accuracy: 1.0000 - val_loss: 0.1863 - val_accuracy: 0.9583\n",
      "Epoch 69/150\n",
      "3/3 [==============================] - 0s 30ms/step - loss: 0.0152 - accuracy: 1.0000 - val_loss: 0.1859 - val_accuracy: 0.9583\n",
      "Epoch 70/150\n",
      "3/3 [==============================] - 0s 24ms/step - loss: 0.0150 - accuracy: 1.0000 - val_loss: 0.1861 - val_accuracy: 0.9583\n",
      "Epoch 71/150\n",
      "3/3 [==============================] - 0s 18ms/step - loss: 0.0147 - accuracy: 1.0000 - val_loss: 0.1862 - val_accuracy: 0.9583\n",
      "Epoch 72/150\n",
      "3/3 [==============================] - 0s 18ms/step - loss: 0.0145 - accuracy: 1.0000 - val_loss: 0.1867 - val_accuracy: 0.9583\n",
      "Epoch 73/150\n",
      "3/3 [==============================] - 0s 19ms/step - loss: 0.0143 - accuracy: 1.0000 - val_loss: 0.1875 - val_accuracy: 0.9583\n",
      "Epoch 74/150\n",
      "3/3 [==============================] - 0s 23ms/step - loss: 0.0141 - accuracy: 1.0000 - val_loss: 0.1882 - val_accuracy: 0.9583\n",
      "Epoch 75/150\n",
      "3/3 [==============================] - 0s 25ms/step - loss: 0.0138 - accuracy: 1.0000 - val_loss: 0.1894 - val_accuracy: 0.9583\n",
      "Epoch 76/150\n",
      "3/3 [==============================] - 0s 25ms/step - loss: 0.0136 - accuracy: 1.0000 - val_loss: 0.1891 - val_accuracy: 0.9583\n",
      "Epoch 77/150\n",
      "3/3 [==============================] - 0s 18ms/step - loss: 0.0134 - accuracy: 1.0000 - val_loss: 0.1889 - val_accuracy: 0.9583\n",
      "Epoch 78/150\n",
      "3/3 [==============================] - 0s 18ms/step - loss: 0.0132 - accuracy: 1.0000 - val_loss: 0.1889 - val_accuracy: 0.9583\n",
      "Epoch 79/150\n",
      "3/3 [==============================] - 0s 18ms/step - loss: 0.0131 - accuracy: 1.0000 - val_loss: 0.1893 - val_accuracy: 0.9583\n",
      "Epoch 80/150\n",
      "3/3 [==============================] - 0s 21ms/step - loss: 0.0129 - accuracy: 1.0000 - val_loss: 0.1900 - val_accuracy: 0.9583\n",
      "Epoch 81/150\n",
      "3/3 [==============================] - 0s 29ms/step - loss: 0.0127 - accuracy: 1.0000 - val_loss: 0.1907 - val_accuracy: 0.9583\n",
      "Epoch 82/150\n",
      "3/3 [==============================] - 0s 28ms/step - loss: 0.0125 - accuracy: 1.0000 - val_loss: 0.1929 - val_accuracy: 0.9583\n",
      "Epoch 83/150\n",
      "3/3 [==============================] - 0s 24ms/step - loss: 0.0123 - accuracy: 1.0000 - val_loss: 0.1939 - val_accuracy: 0.9583\n",
      "Epoch 84/150\n",
      "3/3 [==============================] - 0s 18ms/step - loss: 0.0122 - accuracy: 1.0000 - val_loss: 0.1941 - val_accuracy: 0.9583\n",
      "Epoch 85/150\n",
      "3/3 [==============================] - 0s 18ms/step - loss: 0.0120 - accuracy: 1.0000 - val_loss: 0.1947 - val_accuracy: 0.9583\n",
      "Epoch 86/150\n",
      "3/3 [==============================] - 0s 25ms/step - loss: 0.0119 - accuracy: 1.0000 - val_loss: 0.1950 - val_accuracy: 0.9583\n",
      "Epoch 87/150\n",
      "3/3 [==============================] - 0s 28ms/step - loss: 0.0117 - accuracy: 1.0000 - val_loss: 0.1944 - val_accuracy: 0.9583\n",
      "Epoch 88/150\n",
      "3/3 [==============================] - 0s 17ms/step - loss: 0.0116 - accuracy: 1.0000 - val_loss: 0.1943 - val_accuracy: 0.9583\n",
      "Epoch 89/150\n",
      "3/3 [==============================] - 0s 17ms/step - loss: 0.0114 - accuracy: 1.0000 - val_loss: 0.1946 - val_accuracy: 0.9583\n",
      "Epoch 90/150\n",
      "3/3 [==============================] - 0s 18ms/step - loss: 0.0113 - accuracy: 1.0000 - val_loss: 0.1946 - val_accuracy: 0.9583\n",
      "Epoch 91/150\n",
      "3/3 [==============================] - 0s 18ms/step - loss: 0.0111 - accuracy: 1.0000 - val_loss: 0.1952 - val_accuracy: 0.9583\n",
      "Epoch 92/150\n",
      "3/3 [==============================] - 0s 18ms/step - loss: 0.0110 - accuracy: 1.0000 - val_loss: 0.1953 - val_accuracy: 0.9583\n",
      "Epoch 93/150\n",
      "3/3 [==============================] - 0s 25ms/step - loss: 0.0108 - accuracy: 1.0000 - val_loss: 0.1956 - val_accuracy: 0.9583\n",
      "Epoch 94/150\n",
      "3/3 [==============================] - 0s 28ms/step - loss: 0.0107 - accuracy: 1.0000 - val_loss: 0.1962 - val_accuracy: 0.9583\n",
      "Epoch 95/150\n",
      "3/3 [==============================] - 0s 19ms/step - loss: 0.0106 - accuracy: 1.0000 - val_loss: 0.1967 - val_accuracy: 0.9583\n",
      "Epoch 96/150\n",
      "3/3 [==============================] - 0s 18ms/step - loss: 0.0105 - accuracy: 1.0000 - val_loss: 0.1974 - val_accuracy: 0.9583\n",
      "Epoch 97/150\n",
      "3/3 [==============================] - 0s 25ms/step - loss: 0.0103 - accuracy: 1.0000 - val_loss: 0.1986 - val_accuracy: 0.9583\n",
      "Epoch 98/150\n",
      "3/3 [==============================] - 0s 20ms/step - loss: 0.0102 - accuracy: 1.0000 - val_loss: 0.1985 - val_accuracy: 0.9583\n",
      "Epoch 99/150\n",
      "3/3 [==============================] - 0s 28ms/step - loss: 0.0101 - accuracy: 1.0000 - val_loss: 0.1992 - val_accuracy: 0.9583\n",
      "Epoch 100/150\n",
      "3/3 [==============================] - 0s 25ms/step - loss: 0.0100 - accuracy: 1.0000 - val_loss: 0.1984 - val_accuracy: 0.9583\n",
      "Epoch 101/150\n",
      "3/3 [==============================] - 0s 18ms/step - loss: 0.0098 - accuracy: 1.0000 - val_loss: 0.1985 - val_accuracy: 0.9583\n",
      "Epoch 102/150\n",
      "3/3 [==============================] - 0s 18ms/step - loss: 0.0097 - accuracy: 1.0000 - val_loss: 0.1989 - val_accuracy: 0.9583\n",
      "Epoch 103/150\n",
      "3/3 [==============================] - 0s 18ms/step - loss: 0.0096 - accuracy: 1.0000 - val_loss: 0.1995 - val_accuracy: 0.9583\n",
      "Epoch 104/150\n",
      "3/3 [==============================] - 0s 18ms/step - loss: 0.0095 - accuracy: 1.0000 - val_loss: 0.1998 - val_accuracy: 0.9583\n",
      "Epoch 105/150\n",
      "3/3 [==============================] - 0s 18ms/step - loss: 0.0094 - accuracy: 1.0000 - val_loss: 0.2004 - val_accuracy: 0.9583\n",
      "Epoch 106/150\n",
      "3/3 [==============================] - 0s 27ms/step - loss: 0.0093 - accuracy: 1.0000 - val_loss: 0.2009 - val_accuracy: 0.9583\n",
      "Epoch 107/150\n",
      "3/3 [==============================] - 0s 23ms/step - loss: 0.0092 - accuracy: 1.0000 - val_loss: 0.2009 - val_accuracy: 0.9583\n",
      "Epoch 108/150\n",
      "3/3 [==============================] - 0s 18ms/step - loss: 0.0091 - accuracy: 1.0000 - val_loss: 0.2014 - val_accuracy: 0.9583\n",
      "Epoch 109/150\n",
      "3/3 [==============================] - 0s 19ms/step - loss: 0.0090 - accuracy: 1.0000 - val_loss: 0.2015 - val_accuracy: 0.9583\n",
      "Epoch 110/150\n",
      "3/3 [==============================] - 0s 18ms/step - loss: 0.0089 - accuracy: 1.0000 - val_loss: 0.2017 - val_accuracy: 0.9583\n",
      "Epoch 111/150\n",
      "3/3 [==============================] - 0s 18ms/step - loss: 0.0088 - accuracy: 1.0000 - val_loss: 0.2022 - val_accuracy: 0.9583\n",
      "Epoch 112/150\n",
      "3/3 [==============================] - 0s 27ms/step - loss: 0.0087 - accuracy: 1.0000 - val_loss: 0.2029 - val_accuracy: 0.9583\n",
      "Epoch 113/150\n",
      "3/3 [==============================] - 0s 25ms/step - loss: 0.0086 - accuracy: 1.0000 - val_loss: 0.2038 - val_accuracy: 0.9583\n",
      "Epoch 114/150\n",
      "3/3 [==============================] - 0s 19ms/step - loss: 0.0085 - accuracy: 1.0000 - val_loss: 0.2036 - val_accuracy: 0.9583\n",
      "Epoch 115/150\n",
      "3/3 [==============================] - 0s 19ms/step - loss: 0.0084 - accuracy: 1.0000 - val_loss: 0.2040 - val_accuracy: 0.9583\n",
      "Epoch 116/150\n",
      "3/3 [==============================] - 0s 18ms/step - loss: 0.0083 - accuracy: 1.0000 - val_loss: 0.2045 - val_accuracy: 0.9583\n",
      "Epoch 117/150\n",
      "3/3 [==============================] - 0s 19ms/step - loss: 0.0083 - accuracy: 1.0000 - val_loss: 0.2048 - val_accuracy: 0.9583\n",
      "Epoch 118/150\n",
      "3/3 [==============================] - 0s 24ms/step - loss: 0.0082 - accuracy: 1.0000 - val_loss: 0.2050 - val_accuracy: 0.9583\n",
      "Epoch 119/150\n",
      "3/3 [==============================] - 0s 26ms/step - loss: 0.0081 - accuracy: 1.0000 - val_loss: 0.2052 - val_accuracy: 0.9583\n",
      "Epoch 120/150\n",
      "3/3 [==============================] - 0s 25ms/step - loss: 0.0080 - accuracy: 1.0000 - val_loss: 0.2058 - val_accuracy: 0.9583\n",
      "Epoch 121/150\n",
      "3/3 [==============================] - 0s 19ms/step - loss: 0.0079 - accuracy: 1.0000 - val_loss: 0.2065 - val_accuracy: 0.9583\n",
      "Epoch 122/150\n",
      "3/3 [==============================] - 0s 19ms/step - loss: 0.0079 - accuracy: 1.0000 - val_loss: 0.2072 - val_accuracy: 0.9583\n",
      "Epoch 123/150\n",
      "3/3 [==============================] - 0s 19ms/step - loss: 0.0078 - accuracy: 1.0000 - val_loss: 0.2075 - val_accuracy: 0.9583\n",
      "Epoch 124/150\n",
      "3/3 [==============================] - 0s 28ms/step - loss: 0.0077 - accuracy: 1.0000 - val_loss: 0.2076 - val_accuracy: 0.9583\n",
      "Epoch 125/150\n",
      "3/3 [==============================] - 0s 33ms/step - loss: 0.0076 - accuracy: 1.0000 - val_loss: 0.2076 - val_accuracy: 0.9583\n",
      "Epoch 126/150\n",
      "3/3 [==============================] - 0s 31ms/step - loss: 0.0075 - accuracy: 1.0000 - val_loss: 0.2078 - val_accuracy: 0.9583\n",
      "Epoch 127/150\n",
      "3/3 [==============================] - 0s 18ms/step - loss: 0.0075 - accuracy: 1.0000 - val_loss: 0.2074 - val_accuracy: 0.9583\n",
      "Epoch 128/150\n",
      "3/3 [==============================] - 0s 19ms/step - loss: 0.0074 - accuracy: 1.0000 - val_loss: 0.2079 - val_accuracy: 0.9583\n",
      "Epoch 129/150\n",
      "3/3 [==============================] - 0s 19ms/step - loss: 0.0073 - accuracy: 1.0000 - val_loss: 0.2080 - val_accuracy: 0.9583\n",
      "Epoch 130/150\n",
      "3/3 [==============================] - 0s 18ms/step - loss: 0.0073 - accuracy: 1.0000 - val_loss: 0.2085 - val_accuracy: 0.9583\n",
      "Epoch 131/150\n",
      "3/3 [==============================] - 0s 24ms/step - loss: 0.0072 - accuracy: 1.0000 - val_loss: 0.2089 - val_accuracy: 0.9583\n",
      "Epoch 132/150\n",
      "3/3 [==============================] - 0s 30ms/step - loss: 0.0071 - accuracy: 1.0000 - val_loss: 0.2090 - val_accuracy: 0.9583\n",
      "Epoch 133/150\n",
      "3/3 [==============================] - 0s 20ms/step - loss: 0.0071 - accuracy: 1.0000 - val_loss: 0.2098 - val_accuracy: 0.9583\n",
      "Epoch 134/150\n",
      "3/3 [==============================] - 0s 19ms/step - loss: 0.0070 - accuracy: 1.0000 - val_loss: 0.2102 - val_accuracy: 0.9583\n",
      "Epoch 135/150\n",
      "3/3 [==============================] - 0s 18ms/step - loss: 0.0069 - accuracy: 1.0000 - val_loss: 0.2110 - val_accuracy: 0.9583\n",
      "Epoch 136/150\n",
      "3/3 [==============================] - 0s 18ms/step - loss: 0.0069 - accuracy: 1.0000 - val_loss: 0.2115 - val_accuracy: 0.9583\n",
      "Epoch 137/150\n",
      "3/3 [==============================] - 0s 28ms/step - loss: 0.0068 - accuracy: 1.0000 - val_loss: 0.2115 - val_accuracy: 0.9583\n",
      "Epoch 138/150\n",
      "3/3 [==============================] - 0s 26ms/step - loss: 0.0067 - accuracy: 1.0000 - val_loss: 0.2120 - val_accuracy: 0.9583\n",
      "Epoch 139/150\n",
      "3/3 [==============================] - 0s 24ms/step - loss: 0.0067 - accuracy: 1.0000 - val_loss: 0.2127 - val_accuracy: 0.9583\n",
      "Epoch 140/150\n",
      "3/3 [==============================] - 0s 19ms/step - loss: 0.0066 - accuracy: 1.0000 - val_loss: 0.2129 - val_accuracy: 0.9583\n",
      "Epoch 141/150\n",
      "3/3 [==============================] - 0s 18ms/step - loss: 0.0066 - accuracy: 1.0000 - val_loss: 0.2130 - val_accuracy: 0.9583\n",
      "Epoch 142/150\n",
      "3/3 [==============================] - 0s 18ms/step - loss: 0.0065 - accuracy: 1.0000 - val_loss: 0.2131 - val_accuracy: 0.9583\n",
      "Epoch 143/150\n",
      "3/3 [==============================] - 0s 22ms/step - loss: 0.0064 - accuracy: 1.0000 - val_loss: 0.2133 - val_accuracy: 0.9583\n",
      "Epoch 144/150\n",
      "3/3 [==============================] - 0s 26ms/step - loss: 0.0064 - accuracy: 1.0000 - val_loss: 0.2138 - val_accuracy: 0.9583\n",
      "Epoch 145/150\n",
      "3/3 [==============================] - 0s 31ms/step - loss: 0.0063 - accuracy: 1.0000 - val_loss: 0.2145 - val_accuracy: 0.9583\n",
      "Epoch 146/150\n",
      "3/3 [==============================] - 0s 24ms/step - loss: 0.0063 - accuracy: 1.0000 - val_loss: 0.2147 - val_accuracy: 0.9583\n",
      "Epoch 147/150\n",
      "3/3 [==============================] - 0s 36ms/step - loss: 0.0062 - accuracy: 1.0000 - val_loss: 0.2148 - val_accuracy: 0.9583\n",
      "Epoch 148/150\n",
      "3/3 [==============================] - 0s 29ms/step - loss: 0.0062 - accuracy: 1.0000 - val_loss: 0.2151 - val_accuracy: 0.9583\n",
      "Epoch 149/150\n",
      "3/3 [==============================] - 0s 24ms/step - loss: 0.0061 - accuracy: 1.0000 - val_loss: 0.2154 - val_accuracy: 0.9583\n",
      "Epoch 150/150\n",
      "3/3 [==============================] - 0s 28ms/step - loss: 0.0061 - accuracy: 1.0000 - val_loss: 0.2155 - val_accuracy: 0.9583\n"
     ]
    }
   ],
   "source": [
    "model = Sequential([\n",
    "    Dense(256, input_shape=(4,), activation='relu'),\n",
    "    Dense(256, activation='relu'),\n",
    "    \n",
    "    Dense(512, activation='sigmoid'),\n",
    "    Dense(256, activation='relu'),\n",
    "    \n",
    "    Dense(128, activation='sigmoid'),\n",
    "    Dense(64, activation='relu'),\n",
    "    \n",
    "    Dense(32, activation='sigmoid'),\n",
    "    Dense(3, activation='softmax')  # 3 classes for Iris dataset\n",
    "])\n",
    "\n",
    "# Compile the model\n",
    "model.compile(optimizer='adam', loss='sparse_categorical_crossentropy', metrics=['accuracy'])\n",
    "\n",
    "# Train the model\n",
    "history=model.fit(X_train, y_train, epochs=150, batch_size=32, validation_split=0.2)"
   ]
  },
  {
   "cell_type": "code",
   "execution_count": 26,
   "id": "5db5afbb",
   "metadata": {},
   "outputs": [
    {
     "name": "stdout",
     "output_type": "stream",
     "text": [
      "1/1 [==============================] - 0s 38ms/step - loss: 0.1901 - accuracy: 0.9667\n",
      "Test Accuracy: 96.67%\n"
     ]
    }
   ],
   "source": [
    "loss, accuracy = model.evaluate(X_test, y_test)\n",
    "print(f\"Test Accuracy: {accuracy*100:.2f}%\")"
   ]
  },
  {
   "cell_type": "code",
   "execution_count": 27,
   "metadata": {},
   "outputs": [
    {
     "data": {
      "image/png": "[encoded data removed]",
      "text/plain": [
       "<Figure size 600x400 with 1 Axes>"
      ]
     },
     "metadata": {},
     "output_type": "display_data"
    }
   ],
   "source": [
    "# Plot training and validation loss\n",
    "plt.figure(figsize=(6, 4))\n",
    "plt.plot(history.history['loss'], label='Training Loss')\n",
    "plt.plot(history.history['val_loss'], label='Validation Loss')\n",
    "plt.xlabel('Epochs')\n",
    "plt.ylabel('Loss')\n",
    "#plt.title('Training and Validation Loss')\n",
    "plt.legend()\n",
    "plt.grid()\n",
    "plt.show()"
   ]
  },
  {
   "cell_type": "code",
   "execution_count": 28,
   "id": "a6849a31",
   "metadata": {},
   "outputs": [
    {
     "data": {
      "image/png": "[encoded data removed]",
      "text/plain": [
       "<Figure size 600x400 with 1 Axes>"
      ]
     },
     "metadata": {},
     "output_type": "display_data"
    }
   ],
   "source": [
    "# Plot training and validation accuracy\n",
    "plt.figure(figsize=(6, 4))\n",
    "plt.plot(history.history['accuracy'], label='Training Accuracy')\n",
    "plt.plot(history.history['val_accuracy'], label='Validation Accuracy')\n",
    "plt.xlabel('Epochs')\n",
    "plt.ylabel('Accuracy')\n",
    "#plt.title('Training and Validation Accuracy')\n",
    "plt.legend()\n",
    "plt.grid()\n",
    "plt.show()"
   ]
  },
  {
   "cell_type": "code",
   "execution_count": 29,
   "id": "cdc13bf0",
   "metadata": {},
   "outputs": [
    {
     "data": {
      "image/png": "[encoded data removed]",
      "text/plain": [
       "<IPython.core.display.Image object>"
      ]
     },
     "execution_count": 29,
     "metadata": {},
     "output_type": "execute_result"
    }
   ],
   "source": [
    "from tensorflow.keras.utils import plot_model\n",
    "plot_model(model, to_file='model_plot.png', show_shapes=True, show_layer_names=True)"
   ]
  },
  {
   "cell_type": "code",
   "execution_count": 31,
   "id": "6061ba7a",
   "metadata": {},
   "outputs": [
    {
     "name": "stdout",
     "output_type": "stream",
     "text": [
      "1/1 [==============================] - 0s 16ms/step\n"
     ]
    },
    {
     "data": {
      "image/png": "[encoded data removed]",
      "text/plain": [
       "<Figure size 400x400 with 1 Axes>"
      ]
     },
     "metadata": {},
     "output_type": "display_data"
    }
   ],
   "source": [
    "from sklearn.metrics import confusion_matrix\n",
    "# Predict on the test set\n",
    "y_pred = np.argmax(model.predict(X_test), axis=-1)\n",
    "\n",
    "# Construct the confusion matrix\n",
    "cm = confusion_matrix(y_test, y_pred)\n",
    "\n",
    "# Plot the confusion matrix\n",
    "plt.figure(figsize=(4, 4))\n",
    "sns.heatmap(cm, annot=True, fmt='d', cmap='Blues', cbar=False)\n",
    "plt.xlabel('Predicted Label')\n",
    "plt.ylabel('True Label')\n",
    "plt.title('Confusion Matrix')\n",
    "plt.show()"
   ]
  },
  {
   "cell_type": "code",
   "execution_count": 37,
   "id": "9a1f0ff2",
   "metadata": {},
   "outputs": [
    {
     "ename": "ValueError",
     "evalue": "Found input variables with inconsistent numbers of samples: [30, 120]",
     "output_type": "error",
     "traceback": [
      "\u001b[1;31m---------------------------------------------------------------------------\u001b[0m",
      "\u001b[1;31mValueError\u001b[0m                                Traceback (most recent call last)",
      "Cell \u001b[1;32mIn[37], line 4\u001b[0m\n\u001b[0;32m      1\u001b[0m \u001b[38;5;28;01mfrom\u001b[39;00m \u001b[38;5;21;01msklearn\u001b[39;00m\u001b[38;5;21;01m.\u001b[39;00m\u001b[38;5;21;01mmetrics\u001b[39;00m \u001b[38;5;28;01mimport\u001b[39;00m mean_squared_error\n\u001b[0;32m      3\u001b[0m \u001b[38;5;66;03m# Assuming you have your predicted values (y_pred) and actual values (y_true)\u001b[39;00m\n\u001b[1;32m----> 4\u001b[0m rmse \u001b[38;5;241m=\u001b[39m \u001b[43mmean_squared_error\u001b[49m\u001b[43m(\u001b[49m\u001b[43mX_test\u001b[49m\u001b[43m,\u001b[49m\u001b[43m \u001b[49m\u001b[43my_train\u001b[49m\u001b[43m,\u001b[49m\u001b[43m \u001b[49m\u001b[43msquared\u001b[49m\u001b[38;5;241;43m=\u001b[39;49m\u001b[38;5;28;43;01mFalse\u001b[39;49;00m\u001b[43m)\u001b[49m  \u001b[38;5;66;03m# Set squared=False to get RMSE\u001b[39;00m\n\u001b[0;32m      6\u001b[0m \u001b[38;5;28mprint\u001b[39m(\u001b[38;5;124m\"\u001b[39m\u001b[38;5;124mRoot Mean Squared Error (RMSE):\u001b[39m\u001b[38;5;124m\"\u001b[39m, rmse)\n",
      "File \u001b[1;32mc:\\Users\\pc\\AppData\\Local\\Programs\\Python\\Python310\\lib\\site-packages\\sklearn\\utils\\_param_validation.py:211\u001b[0m, in \u001b[0;36mvalidate_params.<locals>.decorator.<locals>.wrapper\u001b[1;34m(*args, **kwargs)\u001b[0m\n\u001b[0;32m    205\u001b[0m \u001b[38;5;28;01mtry\u001b[39;00m:\n\u001b[0;32m    206\u001b[0m     \u001b[38;5;28;01mwith\u001b[39;00m config_context(\n\u001b[0;32m    207\u001b[0m         skip_parameter_validation\u001b[38;5;241m=\u001b[39m(\n\u001b[0;32m    208\u001b[0m             prefer_skip_nested_validation \u001b[38;5;129;01mor\u001b[39;00m global_skip_validation\n\u001b[0;32m    209\u001b[0m         )\n\u001b[0;32m    210\u001b[0m     ):\n\u001b[1;32m--> 211\u001b[0m         \u001b[38;5;28;01mreturn\u001b[39;00m func(\u001b[38;5;241m*\u001b[39margs, \u001b[38;5;241m*\u001b[39m\u001b[38;5;241m*\u001b[39mkwargs)\n\u001b[0;32m    212\u001b[0m \u001b[38;5;28;01mexcept\u001b[39;00m InvalidParameterError \u001b[38;5;28;01mas\u001b[39;00m e:\n\u001b[0;32m    213\u001b[0m     \u001b[38;5;66;03m# When the function is just a wrapper around an estimator, we allow\u001b[39;00m\n\u001b[0;32m    214\u001b[0m     \u001b[38;5;66;03m# the function to delegate validation to the estimator, but we replace\u001b[39;00m\n\u001b[0;32m    215\u001b[0m     \u001b[38;5;66;03m# the name of the estimator by the name of the function in the error\u001b[39;00m\n\u001b[0;32m    216\u001b[0m     \u001b[38;5;66;03m# message to avoid confusion.\u001b[39;00m\n\u001b[0;32m    217\u001b[0m     msg \u001b[38;5;241m=\u001b[39m re\u001b[38;5;241m.\u001b[39msub(\n\u001b[0;32m    218\u001b[0m         \u001b[38;5;124mr\u001b[39m\u001b[38;5;124m\"\u001b[39m\u001b[38;5;124mparameter of \u001b[39m\u001b[38;5;124m\\\u001b[39m\u001b[38;5;124mw+ must be\u001b[39m\u001b[38;5;124m\"\u001b[39m,\n\u001b[0;32m    219\u001b[0m         \u001b[38;5;124mf\u001b[39m\u001b[38;5;124m\"\u001b[39m\u001b[38;5;124mparameter of \u001b[39m\u001b[38;5;132;01m{\u001b[39;00mfunc\u001b[38;5;241m.\u001b[39m\u001b[38;5;18m__qualname__\u001b[39m\u001b[38;5;132;01m}\u001b[39;00m\u001b[38;5;124m must be\u001b[39m\u001b[38;5;124m\"\u001b[39m,\n\u001b[0;32m    220\u001b[0m         \u001b[38;5;28mstr\u001b[39m(e),\n\u001b[0;32m    221\u001b[0m     )\n",
      "File \u001b[1;32mc:\\Users\\pc\\AppData\\Local\\Programs\\Python\\Python310\\lib\\site-packages\\sklearn\\metrics\\_regression.py:474\u001b[0m, in \u001b[0;36mmean_squared_error\u001b[1;34m(y_true, y_pred, sample_weight, multioutput, squared)\u001b[0m\n\u001b[0;32m    404\u001b[0m \u001b[38;5;129m@validate_params\u001b[39m(\n\u001b[0;32m    405\u001b[0m     {\n\u001b[0;32m    406\u001b[0m         \u001b[38;5;124m\"\u001b[39m\u001b[38;5;124my_true\u001b[39m\u001b[38;5;124m\"\u001b[39m: [\u001b[38;5;124m\"\u001b[39m\u001b[38;5;124marray-like\u001b[39m\u001b[38;5;124m\"\u001b[39m],\n\u001b[1;32m   (...)\u001b[0m\n\u001b[0;32m    415\u001b[0m     y_true, y_pred, \u001b[38;5;241m*\u001b[39m, sample_weight\u001b[38;5;241m=\u001b[39m\u001b[38;5;28;01mNone\u001b[39;00m, multioutput\u001b[38;5;241m=\u001b[39m\u001b[38;5;124m\"\u001b[39m\u001b[38;5;124muniform_average\u001b[39m\u001b[38;5;124m\"\u001b[39m, squared\u001b[38;5;241m=\u001b[39m\u001b[38;5;28;01mTrue\u001b[39;00m\n\u001b[0;32m    416\u001b[0m ):\n\u001b[0;32m    417\u001b[0m \u001b[38;5;250m    \u001b[39m\u001b[38;5;124;03m\"\"\"Mean squared error regression loss.\u001b[39;00m\n\u001b[0;32m    418\u001b[0m \n\u001b[0;32m    419\u001b[0m \u001b[38;5;124;03m    Read more in the :ref:`User Guide <mean_squared_error>`.\u001b[39;00m\n\u001b[1;32m   (...)\u001b[0m\n\u001b[0;32m    472\u001b[0m \u001b[38;5;124;03m    0.825...\u001b[39;00m\n\u001b[0;32m    473\u001b[0m \u001b[38;5;124;03m    \"\"\"\u001b[39;00m\n\u001b[1;32m--> 474\u001b[0m     y_type, y_true, y_pred, multioutput \u001b[38;5;241m=\u001b[39m \u001b[43m_check_reg_targets\u001b[49m\u001b[43m(\u001b[49m\n\u001b[0;32m    475\u001b[0m \u001b[43m        \u001b[49m\u001b[43my_true\u001b[49m\u001b[43m,\u001b[49m\u001b[43m \u001b[49m\u001b[43my_pred\u001b[49m\u001b[43m,\u001b[49m\u001b[43m \u001b[49m\u001b[43mmultioutput\u001b[49m\n\u001b[0;32m    476\u001b[0m \u001b[43m    \u001b[49m\u001b[43m)\u001b[49m\n\u001b[0;32m    477\u001b[0m     check_consistent_length(y_true, y_pred, sample_weight)\n\u001b[0;32m    478\u001b[0m     output_errors \u001b[38;5;241m=\u001b[39m np\u001b[38;5;241m.\u001b[39maverage((y_true \u001b[38;5;241m-\u001b[39m y_pred) \u001b[38;5;241m*\u001b[39m\u001b[38;5;241m*\u001b[39m \u001b[38;5;241m2\u001b[39m, axis\u001b[38;5;241m=\u001b[39m\u001b[38;5;241m0\u001b[39m, weights\u001b[38;5;241m=\u001b[39msample_weight)\n",
      "File \u001b[1;32mc:\\Users\\pc\\AppData\\Local\\Programs\\Python\\Python310\\lib\\site-packages\\sklearn\\metrics\\_regression.py:99\u001b[0m, in \u001b[0;36m_check_reg_targets\u001b[1;34m(y_true, y_pred, multioutput, dtype)\u001b[0m\n\u001b[0;32m     65\u001b[0m \u001b[38;5;28;01mdef\u001b[39;00m \u001b[38;5;21m_check_reg_targets\u001b[39m(y_true, y_pred, multioutput, dtype\u001b[38;5;241m=\u001b[39m\u001b[38;5;124m\"\u001b[39m\u001b[38;5;124mnumeric\u001b[39m\u001b[38;5;124m\"\u001b[39m):\n\u001b[0;32m     66\u001b[0m \u001b[38;5;250m    \u001b[39m\u001b[38;5;124;03m\"\"\"Check that y_true and y_pred belong to the same regression task.\u001b[39;00m\n\u001b[0;32m     67\u001b[0m \n\u001b[0;32m     68\u001b[0m \u001b[38;5;124;03m    Parameters\u001b[39;00m\n\u001b[1;32m   (...)\u001b[0m\n\u001b[0;32m     97\u001b[0m \u001b[38;5;124;03m        correct keyword.\u001b[39;00m\n\u001b[0;32m     98\u001b[0m \u001b[38;5;124;03m    \"\"\"\u001b[39;00m\n\u001b[1;32m---> 99\u001b[0m     \u001b[43mcheck_consistent_length\u001b[49m\u001b[43m(\u001b[49m\u001b[43my_true\u001b[49m\u001b[43m,\u001b[49m\u001b[43m \u001b[49m\u001b[43my_pred\u001b[49m\u001b[43m)\u001b[49m\n\u001b[0;32m    100\u001b[0m     y_true \u001b[38;5;241m=\u001b[39m check_array(y_true, ensure_2d\u001b[38;5;241m=\u001b[39m\u001b[38;5;28;01mFalse\u001b[39;00m, dtype\u001b[38;5;241m=\u001b[39mdtype)\n\u001b[0;32m    101\u001b[0m     y_pred \u001b[38;5;241m=\u001b[39m check_array(y_pred, ensure_2d\u001b[38;5;241m=\u001b[39m\u001b[38;5;28;01mFalse\u001b[39;00m, dtype\u001b[38;5;241m=\u001b[39mdtype)\n",
      "File \u001b[1;32mc:\\Users\\pc\\AppData\\Local\\Programs\\Python\\Python310\\lib\\site-packages\\sklearn\\utils\\validation.py:409\u001b[0m, in \u001b[0;36mcheck_consistent_length\u001b[1;34m(*arrays)\u001b[0m\n\u001b[0;32m    407\u001b[0m uniques \u001b[38;5;241m=\u001b[39m np\u001b[38;5;241m.\u001b[39munique(lengths)\n\u001b[0;32m    408\u001b[0m \u001b[38;5;28;01mif\u001b[39;00m \u001b[38;5;28mlen\u001b[39m(uniques) \u001b[38;5;241m>\u001b[39m \u001b[38;5;241m1\u001b[39m:\n\u001b[1;32m--> 409\u001b[0m     \u001b[38;5;28;01mraise\u001b[39;00m \u001b[38;5;167;01mValueError\u001b[39;00m(\n\u001b[0;32m    410\u001b[0m         \u001b[38;5;124m\"\u001b[39m\u001b[38;5;124mFound input variables with inconsistent numbers of samples: \u001b[39m\u001b[38;5;132;01m%r\u001b[39;00m\u001b[38;5;124m\"\u001b[39m\n\u001b[0;32m    411\u001b[0m         \u001b[38;5;241m%\u001b[39m [\u001b[38;5;28mint\u001b[39m(l) \u001b[38;5;28;01mfor\u001b[39;00m l \u001b[38;5;129;01min\u001b[39;00m lengths]\n\u001b[0;32m    412\u001b[0m     )\n",
      "\u001b[1;31mValueError\u001b[0m: Found input variables with inconsistent numbers of samples: [30, 120]"
     ]
    }
   ],
   "source": [
    "from sklearn.metrics import mean_squared_error\n",
    "\n",
    "# Assuming you have your predicted values (y_pred) and actual values (y_true)\n",
    "rmse = mean_squared_error(X_test, y_train, squared=False)  # Set squared=False to get RMSE\n",
    "\n",
    "print(\"Root Mean Squared Error (RMSE):\", rmse)\n"
   ]
  },
  {
   "cell_type": "code",
   "execution_count": null,
   "id": "e52e31fc",
   "metadata": {},
   "outputs": [],
   "source": []
  }
 ],
 "metadata": {
  "kernelspec": {
   "display_name": "Python 3 (ipykernel)",
   "language": "python",
   "name": "python3"
  },
  "language_info": {
   "codemirror_mode": {
    "name": "ipython",
    "version": 3
   },
   "file_extension": ".py",
   "mimetype": "text/x-python",
   "name": "python",
   "nbconvert_exporter": "python",
   "pygments_lexer": "ipython3",
   "version": "3.10.7"
  }
 },
 "nbformat": 4,
 "nbformat_minor": 5
}
